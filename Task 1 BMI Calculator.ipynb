{
 "cells": [
  {
   "cell_type": "code",
   "execution_count": 2,
   "id": "9736099d",
   "metadata": {},
   "outputs": [
    {
     "name": "stdout",
     "output_type": "stream",
     "text": [
      "Enter your name:Ankit\n",
      "Enter the height in cm: 180\n",
      "Enter the weight in kg: 70\n",
      "Your Body Mass Index is 21.604938271604937\n",
      "Awesome! You are healthy.\n"
     ]
    }
   ],
   "source": [
    "Name=input(\"Enter your name:\")\n",
    "\n",
    "# asking for input from the users \n",
    "\n",
    "height = float(input(\"Enter the height in cm: \"))  \n",
    "weight = float(input(\"Enter the weight in kg: \"))  \n",
    "\n",
    "# defining a function for BMI  \n",
    "\n",
    "BMI = the_weight / (the_height/100)**2  \n",
    "\n",
    "# printing the BMI  \n",
    "\n",
    "print(\"Your Body Mass Index is\", BMI)  \n",
    "\n",
    "# using the if-elif-else conditions  \n",
    "\n",
    "if BMI <= 18.5:  \n",
    "    print(\"Oops! You are underweight.\")  \n",
    "elif BMI <= 24.9:  \n",
    "    print(\"Awesome! You are healthy.\")  \n",
    "elif BMI <= 29.9:  \n",
    "    print(\"Eee! You are over weight.\")  \n",
    "else:  \n",
    "    print(\"Seesh! You are obese.\")"
   ]
  },
  {
   "cell_type": "code",
   "execution_count": null,
   "id": "7213c9bf",
   "metadata": {},
   "outputs": [],
   "source": []
  }
 ],
 "metadata": {
  "kernelspec": {
   "display_name": "Python 3 (ipykernel)",
   "language": "python",
   "name": "python3"
  },
  "language_info": {
   "codemirror_mode": {
    "name": "ipython",
    "version": 3
   },
   "file_extension": ".py",
   "mimetype": "text/x-python",
   "name": "python",
   "nbconvert_exporter": "python",
   "pygments_lexer": "ipython3",
   "version": "3.11.3"
  }
 },
 "nbformat": 4,
 "nbformat_minor": 5
}
